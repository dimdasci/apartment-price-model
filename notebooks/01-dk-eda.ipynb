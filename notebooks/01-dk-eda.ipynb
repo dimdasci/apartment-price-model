{
 "cells": [
  {
   "cell_type": "markdown",
   "id": "465202d7",
   "metadata": {},
   "source": [
    "# EDA"
   ]
  },
  {
   "cell_type": "code",
   "execution_count": 58,
   "id": "40c66e1d",
   "metadata": {},
   "outputs": [
    {
     "name": "stdout",
     "output_type": "stream",
     "text": [
      "The autoreload extension is already loaded. To reload it, use:\n",
      "  %reload_ext autoreload\n"
     ]
    }
   ],
   "source": [
    "# Load the \"autoreload\" extension so that code can change\n",
    "%load_ext autoreload\n",
    "\n",
    "# always reload modules so that as we change code in src, it gets loaded\n",
    "%autoreload 2"
   ]
  },
  {
   "cell_type": "markdown",
   "id": "ec8b016f",
   "metadata": {},
   "source": [
    "## Load modules"
   ]
  },
  {
   "cell_type": "code",
   "execution_count": 59,
   "id": "f4166dee",
   "metadata": {},
   "outputs": [],
   "source": [
    "import pandas as pd\n",
    "import numpy as np\n",
    "from os import path\n",
    "from src.utils.functions import load_params, get_project_dir\n",
    "from src.data.clean_dataset import true_false_to_int, price_to_int, is_features_valid\n",
    "from matplotlib import pyplot as plt"
   ]
  },
  {
   "cell_type": "code",
   "execution_count": 60,
   "id": "2fc6b78f",
   "metadata": {},
   "outputs": [],
   "source": [
    "PARAMS = load_params()"
   ]
  },
  {
   "cell_type": "markdown",
   "id": "2799d56c",
   "metadata": {},
   "source": [
    "## Load data"
   ]
  },
  {
   "cell_type": "code",
   "execution_count": 61,
   "id": "7e3baa26",
   "metadata": {},
   "outputs": [],
   "source": [
    "data_path = path.join(get_project_dir(), PARAMS['data']['raw_data_path'], PARAMS[\"data\"][\"train_data_file\"])"
   ]
  },
  {
   "cell_type": "code",
   "execution_count": 62,
   "id": "bc871451",
   "metadata": {},
   "outputs": [],
   "source": [
    "df = pd.read_csv(data_path)"
   ]
  },
  {
   "cell_type": "code",
   "execution_count": 63,
   "id": "e3fb2d2a",
   "metadata": {},
   "outputs": [
    {
     "data": {
      "text/plain": [
       "(12622, 10)"
      ]
     },
     "execution_count": 63,
     "metadata": {},
     "output_type": "execute_result"
    }
   ],
   "source": [
    "df.shape"
   ]
  },
  {
   "cell_type": "markdown",
   "id": "1daf801e",
   "metadata": {},
   "source": [
    "## Data overview"
   ]
  },
  {
   "cell_type": "code",
   "execution_count": 64,
   "id": "5ad39ec8",
   "metadata": {},
   "outputs": [
    {
     "name": "stdout",
     "output_type": "stream",
     "text": [
      "<class 'pandas.core.frame.DataFrame'>\n",
      "RangeIndex: 12622 entries, 0 to 12621\n",
      "Data columns (total 10 columns):\n",
      " #   Column                        Non-Null Count  Dtype  \n",
      "---  ------                        --------------  -----  \n",
      " 0   host_is_superhost             12621 non-null  object \n",
      " 1   neighbourhood_group_cleansed  12622 non-null  object \n",
      " 2   property_type                 12622 non-null  object \n",
      " 3   room_type                     12622 non-null  object \n",
      " 4   accommodates                  12622 non-null  int64  \n",
      " 5   bathrooms_text                12614 non-null  object \n",
      " 6   bedrooms                      12153 non-null  float64\n",
      " 7   beds                          12405 non-null  float64\n",
      " 8   number_of_reviews             12622 non-null  int64  \n",
      " 9   price                         12622 non-null  object \n",
      "dtypes: float64(2), int64(2), object(6)\n",
      "memory usage: 986.2+ KB\n"
     ]
    }
   ],
   "source": [
    "df.info()"
   ]
  },
  {
   "cell_type": "code",
   "execution_count": 65,
   "id": "7ec8abed",
   "metadata": {},
   "outputs": [
    {
     "data": {
      "text/html": [
       "<div>\n",
       "<style scoped>\n",
       "    .dataframe tbody tr th:only-of-type {\n",
       "        vertical-align: middle;\n",
       "    }\n",
       "\n",
       "    .dataframe tbody tr th {\n",
       "        vertical-align: top;\n",
       "    }\n",
       "\n",
       "    .dataframe thead th {\n",
       "        text-align: right;\n",
       "    }\n",
       "</style>\n",
       "<table border=\"1\" class=\"dataframe\">\n",
       "  <thead>\n",
       "    <tr style=\"text-align: right;\">\n",
       "      <th></th>\n",
       "      <th>0</th>\n",
       "      <th>1</th>\n",
       "      <th>2</th>\n",
       "      <th>3</th>\n",
       "      <th>4</th>\n",
       "    </tr>\n",
       "  </thead>\n",
       "  <tbody>\n",
       "    <tr>\n",
       "      <th>host_is_superhost</th>\n",
       "      <td>f</td>\n",
       "      <td>f</td>\n",
       "      <td>f</td>\n",
       "      <td>f</td>\n",
       "      <td>f</td>\n",
       "    </tr>\n",
       "    <tr>\n",
       "      <th>neighbourhood_group_cleansed</th>\n",
       "      <td>Gràcia</td>\n",
       "      <td>Horta-Guinardó</td>\n",
       "      <td>Ciutat Vella</td>\n",
       "      <td>Ciutat Vella</td>\n",
       "      <td>Ciutat Vella</td>\n",
       "    </tr>\n",
       "    <tr>\n",
       "      <th>property_type</th>\n",
       "      <td>Private room in bed and breakfast</td>\n",
       "      <td>Private room in rental unit</td>\n",
       "      <td>Entire rental unit</td>\n",
       "      <td>Private room in rental unit</td>\n",
       "      <td>Private room in rental unit</td>\n",
       "    </tr>\n",
       "    <tr>\n",
       "      <th>room_type</th>\n",
       "      <td>Private room</td>\n",
       "      <td>Private room</td>\n",
       "      <td>Entire home/apt</td>\n",
       "      <td>Private room</td>\n",
       "      <td>Private room</td>\n",
       "    </tr>\n",
       "    <tr>\n",
       "      <th>accommodates</th>\n",
       "      <td>1</td>\n",
       "      <td>1</td>\n",
       "      <td>4</td>\n",
       "      <td>2</td>\n",
       "      <td>2</td>\n",
       "    </tr>\n",
       "    <tr>\n",
       "      <th>bathrooms_text</th>\n",
       "      <td>1.5 shared baths</td>\n",
       "      <td>1 shared bath</td>\n",
       "      <td>1 bath</td>\n",
       "      <td>1 shared bath</td>\n",
       "      <td>1.5 baths</td>\n",
       "    </tr>\n",
       "    <tr>\n",
       "      <th>bedrooms</th>\n",
       "      <td>1.0</td>\n",
       "      <td>2.0</td>\n",
       "      <td>1.0</td>\n",
       "      <td>1.0</td>\n",
       "      <td>1.0</td>\n",
       "    </tr>\n",
       "    <tr>\n",
       "      <th>beds</th>\n",
       "      <td>1.0</td>\n",
       "      <td>1.0</td>\n",
       "      <td>2.0</td>\n",
       "      <td>1.0</td>\n",
       "      <td>1.0</td>\n",
       "    </tr>\n",
       "    <tr>\n",
       "      <th>number_of_reviews</th>\n",
       "      <td>32</td>\n",
       "      <td>21</td>\n",
       "      <td>14</td>\n",
       "      <td>179</td>\n",
       "      <td>34</td>\n",
       "    </tr>\n",
       "    <tr>\n",
       "      <th>price</th>\n",
       "      <td>$28.00</td>\n",
       "      <td>$30.00</td>\n",
       "      <td>$143.00</td>\n",
       "      <td>$53.00</td>\n",
       "      <td>$32.00</td>\n",
       "    </tr>\n",
       "  </tbody>\n",
       "</table>\n",
       "</div>"
      ],
      "text/plain": [
       "                                                              0  \\\n",
       "host_is_superhost                                             f   \n",
       "neighbourhood_group_cleansed                             Gràcia   \n",
       "property_type                 Private room in bed and breakfast   \n",
       "room_type                                          Private room   \n",
       "accommodates                                                  1   \n",
       "bathrooms_text                                 1.5 shared baths   \n",
       "bedrooms                                                    1.0   \n",
       "beds                                                        1.0   \n",
       "number_of_reviews                                            32   \n",
       "price                                                    $28.00   \n",
       "\n",
       "                                                        1                   2  \\\n",
       "host_is_superhost                                       f                   f   \n",
       "neighbourhood_group_cleansed               Horta-Guinardó        Ciutat Vella   \n",
       "property_type                 Private room in rental unit  Entire rental unit   \n",
       "room_type                                    Private room     Entire home/apt   \n",
       "accommodates                                            1                   4   \n",
       "bathrooms_text                              1 shared bath              1 bath   \n",
       "bedrooms                                              2.0                 1.0   \n",
       "beds                                                  1.0                 2.0   \n",
       "number_of_reviews                                      21                  14   \n",
       "price                                              $30.00             $143.00   \n",
       "\n",
       "                                                        3  \\\n",
       "host_is_superhost                                       f   \n",
       "neighbourhood_group_cleansed                 Ciutat Vella   \n",
       "property_type                 Private room in rental unit   \n",
       "room_type                                    Private room   \n",
       "accommodates                                            2   \n",
       "bathrooms_text                              1 shared bath   \n",
       "bedrooms                                              1.0   \n",
       "beds                                                  1.0   \n",
       "number_of_reviews                                     179   \n",
       "price                                              $53.00   \n",
       "\n",
       "                                                        4  \n",
       "host_is_superhost                                       f  \n",
       "neighbourhood_group_cleansed                 Ciutat Vella  \n",
       "property_type                 Private room in rental unit  \n",
       "room_type                                    Private room  \n",
       "accommodates                                            2  \n",
       "bathrooms_text                                  1.5 baths  \n",
       "bedrooms                                              1.0  \n",
       "beds                                                  1.0  \n",
       "number_of_reviews                                      34  \n",
       "price                                              $32.00  "
      ]
     },
     "execution_count": 65,
     "metadata": {},
     "output_type": "execute_result"
    }
   ],
   "source": [
    "df.head().T"
   ]
  },
  {
   "cell_type": "markdown",
   "id": "39b69ceb",
   "metadata": {},
   "source": [
    "Number of duplicates"
   ]
  },
  {
   "cell_type": "code",
   "execution_count": 66,
   "id": "0a946cf4",
   "metadata": {},
   "outputs": [
    {
     "data": {
      "text/plain": [
       "497"
      ]
     },
     "execution_count": 66,
     "metadata": {},
     "output_type": "execute_result"
    }
   ],
   "source": [
    "df.duplicated().sum()"
   ]
  },
  {
   "cell_type": "markdown",
   "id": "2860edbb",
   "metadata": {},
   "source": [
    "Number of missing values"
   ]
  },
  {
   "cell_type": "code",
   "execution_count": 67,
   "id": "afca6810",
   "metadata": {},
   "outputs": [
    {
     "data": {
      "text/plain": [
       "host_is_superhost                 1\n",
       "neighbourhood_group_cleansed      0\n",
       "property_type                     0\n",
       "room_type                         0\n",
       "accommodates                      0\n",
       "bathrooms_text                    8\n",
       "bedrooms                        469\n",
       "beds                            217\n",
       "number_of_reviews                 0\n",
       "price                             0\n",
       "dtype: int64"
      ]
     },
     "execution_count": 67,
     "metadata": {},
     "output_type": "execute_result"
    }
   ],
   "source": [
    "df.isna().sum(axis=0)"
   ]
  },
  {
   "cell_type": "markdown",
   "id": "b3ce3450",
   "metadata": {},
   "source": [
    "Number of unique values"
   ]
  },
  {
   "cell_type": "code",
   "execution_count": 68,
   "id": "af01630f",
   "metadata": {},
   "outputs": [
    {
     "data": {
      "text/plain": [
       "host_is_superhost                 2\n",
       "neighbourhood_group_cleansed     10\n",
       "property_type                    59\n",
       "room_type                         4\n",
       "accommodates                     16\n",
       "bathrooms_text                   35\n",
       "bedrooms                         13\n",
       "beds                             21\n",
       "number_of_reviews               466\n",
       "price                           517\n",
       "dtype: int64"
      ]
     },
     "execution_count": 68,
     "metadata": {},
     "output_type": "execute_result"
    }
   ],
   "source": [
    "df.nunique()"
   ]
  },
  {
   "cell_type": "code",
   "execution_count": 69,
   "id": "c98f5754",
   "metadata": {},
   "outputs": [
    {
     "data": {
      "text/plain": [
       "array(['1.5 shared baths', '1 shared bath', '1 bath', '1.5 baths',\n",
       "       '1 private bath', '3 baths', '2 baths', nan, '2 shared baths',\n",
       "       '4.5 baths', '11 shared baths', '2.5 baths', '5 shared baths',\n",
       "       '5 baths', '3 shared baths', '10 shared baths', '2.5 shared baths',\n",
       "       '0 shared baths', '8 baths', '4 shared baths', '3.5 baths',\n",
       "       'Half-bath', '4 baths', '5.5 baths', 'Private half-bath',\n",
       "       '13 shared baths', '0 baths', '6 baths', 'Shared half-bath',\n",
       "       '3.5 shared baths', '8 shared baths', '12 shared baths',\n",
       "       '7.5 shared baths', '7.5 baths', '10 baths', '7 shared baths'],\n",
       "      dtype=object)"
      ]
     },
     "execution_count": 69,
     "metadata": {},
     "output_type": "execute_result"
    }
   ],
   "source": [
    "df.bathrooms_text.unique()"
   ]
  },
  {
   "cell_type": "code",
   "execution_count": 70,
   "id": "a189b38a",
   "metadata": {},
   "outputs": [
    {
     "data": {
      "text/plain": [
       "array(['Private room in bed and breakfast', 'Private room in rental unit',\n",
       "       'Entire rental unit', 'Entire villa', 'Room in boutique hotel',\n",
       "       'Private room in guest suite', 'Private room in hostel',\n",
       "       'Private room in condo', 'Room in serviced apartment',\n",
       "       'Entire serviced apartment', 'Entire condo',\n",
       "       'Private room in home', 'Entire loft', 'Shared room in villa',\n",
       "       'Room in hotel', 'Private room in loft',\n",
       "       'Room in bed and breakfast', 'Private room in serviced apartment',\n",
       "       'Private room in casa particular', 'Room in hostel', 'Shared room',\n",
       "       'Entire home', 'Private room in vacation home',\n",
       "       'Shared room in bed and breakfast', 'Entire vacation home', 'Barn',\n",
       "       'Shared room in hostel', 'Shared room in casa particular',\n",
       "       'Private room in tiny home', 'Camper/RV', 'Shared room in tower',\n",
       "       'Private room in dome', 'Entire guesthouse', 'Entire townhouse',\n",
       "       'Shared room in rental unit', 'Private room in chalet',\n",
       "       'Entire guest suite', 'Private room in guesthouse', 'Entire place',\n",
       "       'Private room in floor', 'Room in aparthotel', 'Boat',\n",
       "       'Private room', 'Shared room in home', 'Private room in villa',\n",
       "       'Tiny home', 'Shared room in condo', 'Shared room in hotel',\n",
       "       'Shared room in guest suite', 'Private room in barn',\n",
       "       'Private room in townhouse', 'Casa particular',\n",
       "       'Private room in boat', 'Tent', 'Entire home/apt', 'Entire chalet',\n",
       "       'Shared room in loft', 'Private room in cottage',\n",
       "       'Shared room in floor'], dtype=object)"
      ]
     },
     "execution_count": 70,
     "metadata": {},
     "output_type": "execute_result"
    }
   ],
   "source": [
    "df.property_type.unique()"
   ]
  },
  {
   "cell_type": "code",
   "execution_count": 71,
   "id": "f9cf343c",
   "metadata": {},
   "outputs": [
    {
     "data": {
      "text/html": [
       "<div>\n",
       "<style scoped>\n",
       "    .dataframe tbody tr th:only-of-type {\n",
       "        vertical-align: middle;\n",
       "    }\n",
       "\n",
       "    .dataframe tbody tr th {\n",
       "        vertical-align: top;\n",
       "    }\n",
       "\n",
       "    .dataframe thead th {\n",
       "        text-align: right;\n",
       "    }\n",
       "</style>\n",
       "<table border=\"1\" class=\"dataframe\">\n",
       "  <thead>\n",
       "    <tr style=\"text-align: right;\">\n",
       "      <th></th>\n",
       "      <th>12</th>\n",
       "      <th>68</th>\n",
       "      <th>87</th>\n",
       "      <th>92</th>\n",
       "      <th>102</th>\n",
       "    </tr>\n",
       "  </thead>\n",
       "  <tbody>\n",
       "    <tr>\n",
       "      <th>host_is_superhost</th>\n",
       "      <td>t</td>\n",
       "      <td>f</td>\n",
       "      <td>f</td>\n",
       "      <td>t</td>\n",
       "      <td>f</td>\n",
       "    </tr>\n",
       "    <tr>\n",
       "      <th>neighbourhood_group_cleansed</th>\n",
       "      <td>Eixample</td>\n",
       "      <td>Ciutat Vella</td>\n",
       "      <td>Gràcia</td>\n",
       "      <td>Ciutat Vella</td>\n",
       "      <td>Sant Andreu</td>\n",
       "    </tr>\n",
       "    <tr>\n",
       "      <th>property_type</th>\n",
       "      <td>Room in boutique hotel</td>\n",
       "      <td>Private room in rental unit</td>\n",
       "      <td>Private room in home</td>\n",
       "      <td>Entire loft</td>\n",
       "      <td>Private room in rental unit</td>\n",
       "    </tr>\n",
       "    <tr>\n",
       "      <th>room_type</th>\n",
       "      <td>Private room</td>\n",
       "      <td>Private room</td>\n",
       "      <td>Private room</td>\n",
       "      <td>Entire home/apt</td>\n",
       "      <td>Private room</td>\n",
       "    </tr>\n",
       "    <tr>\n",
       "      <th>accommodates</th>\n",
       "      <td>4</td>\n",
       "      <td>2</td>\n",
       "      <td>1</td>\n",
       "      <td>2</td>\n",
       "      <td>2</td>\n",
       "    </tr>\n",
       "    <tr>\n",
       "      <th>bathrooms_text</th>\n",
       "      <td>1 shared bath</td>\n",
       "      <td>1 shared bath</td>\n",
       "      <td>2 shared baths</td>\n",
       "      <td>1 bath</td>\n",
       "      <td>1 shared bath</td>\n",
       "    </tr>\n",
       "    <tr>\n",
       "      <th>bedrooms</th>\n",
       "      <td>NaN</td>\n",
       "      <td>NaN</td>\n",
       "      <td>NaN</td>\n",
       "      <td>NaN</td>\n",
       "      <td>NaN</td>\n",
       "    </tr>\n",
       "    <tr>\n",
       "      <th>beds</th>\n",
       "      <td>2.0</td>\n",
       "      <td>1.0</td>\n",
       "      <td>1.0</td>\n",
       "      <td>1.0</td>\n",
       "      <td>1.0</td>\n",
       "    </tr>\n",
       "    <tr>\n",
       "      <th>number_of_reviews</th>\n",
       "      <td>7</td>\n",
       "      <td>0</td>\n",
       "      <td>2</td>\n",
       "      <td>0</td>\n",
       "      <td>62</td>\n",
       "    </tr>\n",
       "    <tr>\n",
       "      <th>price</th>\n",
       "      <td>$139.00</td>\n",
       "      <td>$41.00</td>\n",
       "      <td>$45.00</td>\n",
       "      <td>$75.00</td>\n",
       "      <td>$35.00</td>\n",
       "    </tr>\n",
       "  </tbody>\n",
       "</table>\n",
       "</div>"
      ],
      "text/plain": [
       "                                                 12   \\\n",
       "host_is_superhost                                  t   \n",
       "neighbourhood_group_cleansed                Eixample   \n",
       "property_type                 Room in boutique hotel   \n",
       "room_type                               Private room   \n",
       "accommodates                                       4   \n",
       "bathrooms_text                         1 shared bath   \n",
       "bedrooms                                         NaN   \n",
       "beds                                             2.0   \n",
       "number_of_reviews                                  7   \n",
       "price                                        $139.00   \n",
       "\n",
       "                                                      68   \\\n",
       "host_is_superhost                                       f   \n",
       "neighbourhood_group_cleansed                 Ciutat Vella   \n",
       "property_type                 Private room in rental unit   \n",
       "room_type                                    Private room   \n",
       "accommodates                                            2   \n",
       "bathrooms_text                              1 shared bath   \n",
       "bedrooms                                              NaN   \n",
       "beds                                                  1.0   \n",
       "number_of_reviews                                       0   \n",
       "price                                              $41.00   \n",
       "\n",
       "                                               87               92   \\\n",
       "host_is_superhost                                f                t   \n",
       "neighbourhood_group_cleansed                Gràcia     Ciutat Vella   \n",
       "property_type                 Private room in home      Entire loft   \n",
       "room_type                             Private room  Entire home/apt   \n",
       "accommodates                                     1                2   \n",
       "bathrooms_text                      2 shared baths           1 bath   \n",
       "bedrooms                                       NaN              NaN   \n",
       "beds                                           1.0              1.0   \n",
       "number_of_reviews                                2                0   \n",
       "price                                       $45.00           $75.00   \n",
       "\n",
       "                                                      102  \n",
       "host_is_superhost                                       f  \n",
       "neighbourhood_group_cleansed                  Sant Andreu  \n",
       "property_type                 Private room in rental unit  \n",
       "room_type                                    Private room  \n",
       "accommodates                                            2  \n",
       "bathrooms_text                              1 shared bath  \n",
       "bedrooms                                              NaN  \n",
       "beds                                                  1.0  \n",
       "number_of_reviews                                      62  \n",
       "price                                              $35.00  "
      ]
     },
     "execution_count": 71,
     "metadata": {},
     "output_type": "execute_result"
    }
   ],
   "source": [
    "df[df.bedrooms.isna()].head().T"
   ]
  },
  {
   "cell_type": "markdown",
   "id": "ff1b30ed",
   "metadata": {},
   "source": [
    "## Transformations"
   ]
  },
  {
   "cell_type": "code",
   "execution_count": 72,
   "id": "1e8cc836",
   "metadata": {},
   "outputs": [
    {
     "data": {
      "text/plain": [
       "12622"
      ]
     },
     "execution_count": 72,
     "metadata": {},
     "output_type": "execute_result"
    }
   ],
   "source": [
    "df.price.str.contains('.00').count()"
   ]
  },
  {
   "cell_type": "code",
   "execution_count": 73,
   "id": "c3932d1f",
   "metadata": {},
   "outputs": [],
   "source": [
    "df.price = df.price.apply(price_to_int)"
   ]
  },
  {
   "cell_type": "code",
   "execution_count": 74,
   "id": "2b7cd26f",
   "metadata": {},
   "outputs": [],
   "source": [
    "df.host_is_superhost = df.host_is_superhost.apply(true_false_to_int)"
   ]
  },
  {
   "cell_type": "code",
   "execution_count": 75,
   "id": "29ef01b4",
   "metadata": {},
   "outputs": [
    {
     "name": "stdout",
     "output_type": "stream",
     "text": [
      "<class 'pandas.core.frame.DataFrame'>\n",
      "RangeIndex: 12622 entries, 0 to 12621\n",
      "Data columns (total 10 columns):\n",
      " #   Column                        Non-Null Count  Dtype  \n",
      "---  ------                        --------------  -----  \n",
      " 0   host_is_superhost             12621 non-null  float64\n",
      " 1   neighbourhood_group_cleansed  12622 non-null  object \n",
      " 2   property_type                 12622 non-null  object \n",
      " 3   room_type                     12622 non-null  object \n",
      " 4   accommodates                  12622 non-null  int64  \n",
      " 5   bathrooms_text                12614 non-null  object \n",
      " 6   bedrooms                      12153 non-null  float64\n",
      " 7   beds                          12405 non-null  float64\n",
      " 8   number_of_reviews             12622 non-null  int64  \n",
      " 9   price                         12622 non-null  int64  \n",
      "dtypes: float64(3), int64(3), object(4)\n",
      "memory usage: 986.2+ KB\n"
     ]
    }
   ],
   "source": [
    "df.info()"
   ]
  },
  {
   "cell_type": "code",
   "execution_count": 76,
   "id": "e5bbd54b",
   "metadata": {},
   "outputs": [],
   "source": [
    "df = df.drop_duplicates()"
   ]
  },
  {
   "cell_type": "code",
   "execution_count": 77,
   "id": "b8c3fa51",
   "metadata": {},
   "outputs": [
    {
     "data": {
      "text/plain": [
       "(12124, 10)"
      ]
     },
     "execution_count": 77,
     "metadata": {},
     "output_type": "execute_result"
    }
   ],
   "source": [
    "df.shape"
   ]
  },
  {
   "cell_type": "code",
   "execution_count": 78,
   "id": "ddf90aba",
   "metadata": {},
   "outputs": [
    {
     "data": {
      "text/html": [
       "<div>\n",
       "<style scoped>\n",
       "    .dataframe tbody tr th:only-of-type {\n",
       "        vertical-align: middle;\n",
       "    }\n",
       "\n",
       "    .dataframe tbody tr th {\n",
       "        vertical-align: top;\n",
       "    }\n",
       "\n",
       "    .dataframe thead th {\n",
       "        text-align: right;\n",
       "    }\n",
       "</style>\n",
       "<table border=\"1\" class=\"dataframe\">\n",
       "  <thead>\n",
       "    <tr style=\"text-align: right;\">\n",
       "      <th></th>\n",
       "      <th>host_is_superhost</th>\n",
       "      <th>neighbourhood_group_cleansed</th>\n",
       "      <th>property_type</th>\n",
       "      <th>room_type</th>\n",
       "      <th>accommodates</th>\n",
       "      <th>bathrooms_text</th>\n",
       "      <th>bedrooms</th>\n",
       "      <th>beds</th>\n",
       "      <th>number_of_reviews</th>\n",
       "      <th>price</th>\n",
       "    </tr>\n",
       "  </thead>\n",
       "  <tbody>\n",
       "    <tr>\n",
       "      <th>0</th>\n",
       "      <td>0.0</td>\n",
       "      <td>Gràcia</td>\n",
       "      <td>Private room in bed and breakfast</td>\n",
       "      <td>Private room</td>\n",
       "      <td>1</td>\n",
       "      <td>1.5 shared baths</td>\n",
       "      <td>1.0</td>\n",
       "      <td>1.0</td>\n",
       "      <td>32</td>\n",
       "      <td>28</td>\n",
       "    </tr>\n",
       "    <tr>\n",
       "      <th>1</th>\n",
       "      <td>0.0</td>\n",
       "      <td>Horta-Guinardó</td>\n",
       "      <td>Private room in rental unit</td>\n",
       "      <td>Private room</td>\n",
       "      <td>1</td>\n",
       "      <td>1 shared bath</td>\n",
       "      <td>2.0</td>\n",
       "      <td>1.0</td>\n",
       "      <td>21</td>\n",
       "      <td>30</td>\n",
       "    </tr>\n",
       "    <tr>\n",
       "      <th>2</th>\n",
       "      <td>0.0</td>\n",
       "      <td>Ciutat Vella</td>\n",
       "      <td>Entire rental unit</td>\n",
       "      <td>Entire home/apt</td>\n",
       "      <td>4</td>\n",
       "      <td>1 bath</td>\n",
       "      <td>1.0</td>\n",
       "      <td>2.0</td>\n",
       "      <td>14</td>\n",
       "      <td>143</td>\n",
       "    </tr>\n",
       "    <tr>\n",
       "      <th>3</th>\n",
       "      <td>0.0</td>\n",
       "      <td>Ciutat Vella</td>\n",
       "      <td>Private room in rental unit</td>\n",
       "      <td>Private room</td>\n",
       "      <td>2</td>\n",
       "      <td>1 shared bath</td>\n",
       "      <td>1.0</td>\n",
       "      <td>1.0</td>\n",
       "      <td>179</td>\n",
       "      <td>53</td>\n",
       "    </tr>\n",
       "    <tr>\n",
       "      <th>4</th>\n",
       "      <td>0.0</td>\n",
       "      <td>Ciutat Vella</td>\n",
       "      <td>Private room in rental unit</td>\n",
       "      <td>Private room</td>\n",
       "      <td>2</td>\n",
       "      <td>1.5 baths</td>\n",
       "      <td>1.0</td>\n",
       "      <td>1.0</td>\n",
       "      <td>34</td>\n",
       "      <td>32</td>\n",
       "    </tr>\n",
       "  </tbody>\n",
       "</table>\n",
       "</div>"
      ],
      "text/plain": [
       "   host_is_superhost neighbourhood_group_cleansed  \\\n",
       "0                0.0                       Gràcia   \n",
       "1                0.0               Horta-Guinardó   \n",
       "2                0.0                 Ciutat Vella   \n",
       "3                0.0                 Ciutat Vella   \n",
       "4                0.0                 Ciutat Vella   \n",
       "\n",
       "                       property_type        room_type  accommodates  \\\n",
       "0  Private room in bed and breakfast     Private room             1   \n",
       "1        Private room in rental unit     Private room             1   \n",
       "2                 Entire rental unit  Entire home/apt             4   \n",
       "3        Private room in rental unit     Private room             2   \n",
       "4        Private room in rental unit     Private room             2   \n",
       "\n",
       "     bathrooms_text  bedrooms  beds  number_of_reviews  price  \n",
       "0  1.5 shared baths       1.0   1.0                 32     28  \n",
       "1     1 shared bath       2.0   1.0                 21     30  \n",
       "2            1 bath       1.0   2.0                 14    143  \n",
       "3     1 shared bath       1.0   1.0                179     53  \n",
       "4         1.5 baths       1.0   1.0                 34     32  "
      ]
     },
     "execution_count": 78,
     "metadata": {},
     "output_type": "execute_result"
    }
   ],
   "source": [
    "df.head()"
   ]
  },
  {
   "cell_type": "code",
   "execution_count": 79,
   "id": "21635765",
   "metadata": {},
   "outputs": [
    {
     "data": {
      "image/png": "[encoded data removed]",
      "text/plain": [
       "<Figure size 1000x1000 with 6 Axes>"
      ]
     },
     "metadata": {},
     "output_type": "display_data"
    }
   ],
   "source": [
    "df.hist(figsize=(10, 10))\n",
    "plt.show()"
   ]
  },
  {
   "cell_type": "code",
   "execution_count": 80,
   "id": "23281798",
   "metadata": {},
   "outputs": [],
   "source": [
    "df = df.dropna(axis=0)"
   ]
  },
  {
   "cell_type": "code",
   "execution_count": 81,
   "id": "341ad330",
   "metadata": {},
   "outputs": [
    {
     "data": {
      "image/png": "[encoded data removed]",
      "text/plain": [
       "<Figure size 640x480 with 1 Axes>"
      ]
     },
     "metadata": {},
     "output_type": "display_data"
    }
   ],
   "source": [
    "df.price.hist(bins=5000)\n",
    "plt.xlim(0, 1000)\n",
    "plt.show()"
   ]
  },
  {
   "cell_type": "code",
   "execution_count": 82,
   "id": "c2b0a4af",
   "metadata": {},
   "outputs": [
    {
     "data": {
      "text/plain": [
       "(0.0, 2000.0)"
      ]
     },
     "execution_count": 82,
     "metadata": {},
     "output_type": "execute_result"
    },
    {
     "data": {
      "image/png": "[encoded data removed]",
      "text/plain": [
       "<Figure size 640x480 with 1 Axes>"
      ]
     },
     "metadata": {},
     "output_type": "display_data"
    }
   ],
   "source": [
    "df.boxplot(column='price')\n",
    "plt.ylim(0, 2000)"
   ]
  },
  {
   "cell_type": "code",
   "execution_count": 83,
   "id": "d3f6cf82",
   "metadata": {},
   "outputs": [],
   "source": [
    "df = df[df.apply(is_features_valid, axis=1)].query('price < 1000')"
   ]
  },
  {
   "cell_type": "code",
   "execution_count": 84,
   "id": "0e11b761",
   "metadata": {},
   "outputs": [
    {
     "data": {
      "text/plain": [
       "(11065, 10)"
      ]
     },
     "execution_count": 84,
     "metadata": {},
     "output_type": "execute_result"
    }
   ],
   "source": [
    "df.shape"
   ]
  },
  {
   "cell_type": "code",
   "execution_count": null,
   "id": "cb7e8965",
   "metadata": {},
   "outputs": [],
   "source": []
  }
 ],
 "metadata": {
  "kernelspec": {
   "display_name": "Python 3 (ipykernel)",
   "language": "python",
   "name": "python3"
  },
  "language_info": {
   "codemirror_mode": {
    "name": "ipython",
    "version": 3
   },
   "file_extension": ".py",
   "mimetype": "text/x-python",
   "name": "python",
   "nbconvert_exporter": "python",
   "pygments_lexer": "ipython3",
   "version": "3.11.0"
  },
  "toc": {
   "base_numbering": 1,
   "nav_menu": {},
   "number_sections": true,
   "sideBar": true,
   "skip_h1_title": true,
   "title_cell": "Table of Contents",
   "title_sidebar": "Contents",
   "toc_cell": false,
   "toc_position": {},
   "toc_section_display": true,
   "toc_window_display": true
  }
 },
 "nbformat": 4,
 "nbformat_minor": 5
}
