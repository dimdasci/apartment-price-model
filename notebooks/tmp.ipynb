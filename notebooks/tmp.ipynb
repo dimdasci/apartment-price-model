{
 "cells": [
  {
   "cell_type": "code",
   "execution_count": 1,
   "id": "f194f47e",
   "metadata": {},
   "outputs": [],
   "source": [
    "import lightgbm as lgb"
   ]
  },
  {
   "cell_type": "code",
   "execution_count": 49,
   "id": "ef41d9a7",
   "metadata": {},
   "outputs": [],
   "source": [
    "import pandas as pd\n",
    "import numpy as np"
   ]
  },
  {
   "cell_type": "code",
   "execution_count": 31,
   "id": "654e0131",
   "metadata": {},
   "outputs": [],
   "source": [
    "from sklearn.compose import ColumnTransformer"
   ]
  },
  {
   "cell_type": "code",
   "execution_count": 32,
   "id": "be9b8c9b",
   "metadata": {},
   "outputs": [],
   "source": [
    "from src.utils.functions import load_pickle"
   ]
  },
  {
   "cell_type": "code",
   "execution_count": 5,
   "id": "b8a57708",
   "metadata": {},
   "outputs": [],
   "source": [
    "ev_hist = pd.read_csv('../reports/lgbm_regressor_eval.csv', index_col=0)"
   ]
  },
  {
   "cell_type": "code",
   "execution_count": 6,
   "id": "241cb081",
   "metadata": {},
   "outputs": [
    {
     "data": {
      "text/html": [
       "<div>\n",
       "<style scoped>\n",
       "    .dataframe tbody tr th:only-of-type {\n",
       "        vertical-align: middle;\n",
       "    }\n",
       "\n",
       "    .dataframe tbody tr th {\n",
       "        vertical-align: top;\n",
       "    }\n",
       "\n",
       "    .dataframe thead th {\n",
       "        text-align: right;\n",
       "    }\n",
       "</style>\n",
       "<table border=\"1\" class=\"dataframe\">\n",
       "  <thead>\n",
       "    <tr style=\"text-align: right;\">\n",
       "      <th></th>\n",
       "      <th>l2-mean</th>\n",
       "      <th>l2-stdv</th>\n",
       "    </tr>\n",
       "  </thead>\n",
       "  <tbody>\n",
       "    <tr>\n",
       "      <th>0</th>\n",
       "      <td>0.097498</td>\n",
       "      <td>0.002508</td>\n",
       "    </tr>\n",
       "    <tr>\n",
       "      <th>1</th>\n",
       "      <td>0.097393</td>\n",
       "      <td>0.002504</td>\n",
       "    </tr>\n",
       "    <tr>\n",
       "      <th>2</th>\n",
       "      <td>0.097288</td>\n",
       "      <td>0.002500</td>\n",
       "    </tr>\n",
       "    <tr>\n",
       "      <th>3</th>\n",
       "      <td>0.097184</td>\n",
       "      <td>0.002496</td>\n",
       "    </tr>\n",
       "    <tr>\n",
       "      <th>4</th>\n",
       "      <td>0.097079</td>\n",
       "      <td>0.002492</td>\n",
       "    </tr>\n",
       "    <tr>\n",
       "      <th>...</th>\n",
       "      <td>...</td>\n",
       "      <td>...</td>\n",
       "    </tr>\n",
       "    <tr>\n",
       "      <th>2845</th>\n",
       "      <td>0.045246</td>\n",
       "      <td>0.000969</td>\n",
       "    </tr>\n",
       "    <tr>\n",
       "      <th>2846</th>\n",
       "      <td>0.045246</td>\n",
       "      <td>0.000970</td>\n",
       "    </tr>\n",
       "    <tr>\n",
       "      <th>2847</th>\n",
       "      <td>0.045246</td>\n",
       "      <td>0.000969</td>\n",
       "    </tr>\n",
       "    <tr>\n",
       "      <th>2848</th>\n",
       "      <td>0.045246</td>\n",
       "      <td>0.000969</td>\n",
       "    </tr>\n",
       "    <tr>\n",
       "      <th>2849</th>\n",
       "      <td>0.045246</td>\n",
       "      <td>0.000969</td>\n",
       "    </tr>\n",
       "  </tbody>\n",
       "</table>\n",
       "<p>2850 rows × 2 columns</p>\n",
       "</div>"
      ],
      "text/plain": [
       "       l2-mean   l2-stdv\n",
       "0     0.097498  0.002508\n",
       "1     0.097393  0.002504\n",
       "2     0.097288  0.002500\n",
       "3     0.097184  0.002496\n",
       "4     0.097079  0.002492\n",
       "...        ...       ...\n",
       "2845  0.045246  0.000969\n",
       "2846  0.045246  0.000970\n",
       "2847  0.045246  0.000969\n",
       "2848  0.045246  0.000969\n",
       "2849  0.045246  0.000969\n",
       "\n",
       "[2850 rows x 2 columns]"
      ]
     },
     "execution_count": 6,
     "metadata": {},
     "output_type": "execute_result"
    }
   ],
   "source": [
    "ev_hist"
   ]
  },
  {
   "cell_type": "code",
   "execution_count": 7,
   "id": "9012912c",
   "metadata": {},
   "outputs": [
    {
     "data": {
      "text/plain": [
       "<AxesSubplot: >"
      ]
     },
     "execution_count": 7,
     "metadata": {},
     "output_type": "execute_result"
    },
    {
     "data": {
      "image/png": "[encoded data removed]",
      "text/plain": [
       "<Figure size 640x480 with 1 Axes>"
      ]
     },
     "metadata": {},
     "output_type": "display_data"
    }
   ],
   "source": [
    "ev_hist['l2-mean'].plot()"
   ]
  },
  {
   "cell_type": "code",
   "execution_count": 9,
   "id": "b52013e2",
   "metadata": {},
   "outputs": [
    {
     "data": {
      "text/plain": [
       "1.0471285480508996"
      ]
     },
     "execution_count": 9,
     "metadata": {},
     "output_type": "execute_result"
    }
   ],
   "source": [
    "(10**0.04)**0.5"
   ]
  },
  {
   "cell_type": "code",
   "execution_count": 12,
   "id": "234e5611",
   "metadata": {},
   "outputs": [],
   "source": [
    "model = lgb.Booster(model_file='../models/lgbm_regressor.txt')"
   ]
  },
  {
   "cell_type": "code",
   "execution_count": 13,
   "id": "82b52ad1",
   "metadata": {},
   "outputs": [
    {
     "data": {
      "text/plain": [
       "['neighbourhood_group_cleansed',\n",
       " 'property_type',\n",
       " 'room_type',\n",
       " 'bathrooms_text',\n",
       " 'host_is_superhost',\n",
       " 'accommodates',\n",
       " 'bedrooms',\n",
       " 'beds',\n",
       " 'number_of_reviews']"
      ]
     },
     "execution_count": 13,
     "metadata": {},
     "output_type": "execute_result"
    }
   ],
   "source": [
    "model.feature_name()"
   ]
  },
  {
   "cell_type": "code",
   "execution_count": 14,
   "id": "c81aa2e5",
   "metadata": {},
   "outputs": [
    {
     "data": {
      "text/plain": [
       "9"
      ]
     },
     "execution_count": 14,
     "metadata": {},
     "output_type": "execute_result"
    }
   ],
   "source": [
    "model.num_feature()"
   ]
  },
  {
   "cell_type": "code",
   "execution_count": 24,
   "id": "c754150a",
   "metadata": {},
   "outputs": [],
   "source": [
    "ds = lgb.Dataset('../data/processed/test_dataset.bin', free_raw_data=False)"
   ]
  },
  {
   "cell_type": "code",
   "execution_count": 25,
   "id": "0bebb9a0",
   "metadata": {},
   "outputs": [
    {
     "name": "stdout",
     "output_type": "stream",
     "text": [
      "[LightGBM] [Info] Load from binary file ../data/processed/test_dataset.bin\n"
     ]
    },
    {
     "data": {
      "text/plain": [
       "<lightgbm.basic.Dataset at 0x12c947b90>"
      ]
     },
     "execution_count": 25,
     "metadata": {},
     "output_type": "execute_result"
    }
   ],
   "source": [
    "ds.construct()"
   ]
  },
  {
   "cell_type": "code",
   "execution_count": 26,
   "id": "5941d107",
   "metadata": {},
   "outputs": [
    {
     "data": {
      "text/plain": [
       "2846"
      ]
     },
     "execution_count": 26,
     "metadata": {},
     "output_type": "execute_result"
    }
   ],
   "source": [
    "ds.num_data()"
   ]
  },
  {
   "cell_type": "code",
   "execution_count": 27,
   "id": "1b6b9fff",
   "metadata": {},
   "outputs": [
    {
     "data": {
      "text/plain": [
       "9"
      ]
     },
     "execution_count": 27,
     "metadata": {},
     "output_type": "execute_result"
    }
   ],
   "source": [
    "ds.num_feature()"
   ]
  },
  {
   "cell_type": "code",
   "execution_count": 28,
   "id": "ba5a30ad",
   "metadata": {},
   "outputs": [
    {
     "data": {
      "text/plain": [
       "array([1.908485 , 2.0934217, 1.90309  , ..., 2.20412  , 1.90309  ,\n",
       "       1.5563025], dtype=float32)"
      ]
     },
     "execution_count": 28,
     "metadata": {},
     "output_type": "execute_result"
    }
   ],
   "source": [
    "ds.get_label()"
   ]
  },
  {
   "cell_type": "code",
   "execution_count": 33,
   "id": "19a69078",
   "metadata": {},
   "outputs": [],
   "source": [
    "transformer = load_pickle('../models/column_transformer.pkl')"
   ]
  },
  {
   "cell_type": "code",
   "execution_count": 34,
   "id": "ff6b81d0",
   "metadata": {},
   "outputs": [],
   "source": [
    "dataset = pd.read_csv('../data/interim/test.csv')"
   ]
  },
  {
   "cell_type": "code",
   "execution_count": 35,
   "id": "f43acee2",
   "metadata": {},
   "outputs": [
    {
     "data": {
      "text/html": [
       "<div>\n",
       "<style scoped>\n",
       "    .dataframe tbody tr th:only-of-type {\n",
       "        vertical-align: middle;\n",
       "    }\n",
       "\n",
       "    .dataframe tbody tr th {\n",
       "        vertical-align: top;\n",
       "    }\n",
       "\n",
       "    .dataframe thead th {\n",
       "        text-align: right;\n",
       "    }\n",
       "</style>\n",
       "<table border=\"1\" class=\"dataframe\">\n",
       "  <thead>\n",
       "    <tr style=\"text-align: right;\">\n",
       "      <th></th>\n",
       "      <th>host_is_superhost</th>\n",
       "      <th>neighbourhood_group_cleansed</th>\n",
       "      <th>property_type</th>\n",
       "      <th>room_type</th>\n",
       "      <th>accommodates</th>\n",
       "      <th>bathrooms_text</th>\n",
       "      <th>bedrooms</th>\n",
       "      <th>beds</th>\n",
       "      <th>number_of_reviews</th>\n",
       "      <th>price</th>\n",
       "    </tr>\n",
       "  </thead>\n",
       "  <tbody>\n",
       "    <tr>\n",
       "      <th>0</th>\n",
       "      <td>0.0</td>\n",
       "      <td>Sants-Montjuïc</td>\n",
       "      <td>Entire rental unit</td>\n",
       "      <td>Entire home/apt</td>\n",
       "      <td>5</td>\n",
       "      <td>1 bath</td>\n",
       "      <td>3.0</td>\n",
       "      <td>4.0</td>\n",
       "      <td>93</td>\n",
       "      <td>81</td>\n",
       "    </tr>\n",
       "    <tr>\n",
       "      <th>1</th>\n",
       "      <td>0.0</td>\n",
       "      <td>Eixample</td>\n",
       "      <td>Entire rental unit</td>\n",
       "      <td>Entire home/apt</td>\n",
       "      <td>5</td>\n",
       "      <td>1 bath</td>\n",
       "      <td>2.0</td>\n",
       "      <td>3.0</td>\n",
       "      <td>13</td>\n",
       "      <td>124</td>\n",
       "    </tr>\n",
       "    <tr>\n",
       "      <th>2</th>\n",
       "      <td>1.0</td>\n",
       "      <td>Eixample</td>\n",
       "      <td>Entire rental unit</td>\n",
       "      <td>Entire home/apt</td>\n",
       "      <td>4</td>\n",
       "      <td>1 bath</td>\n",
       "      <td>2.0</td>\n",
       "      <td>3.0</td>\n",
       "      <td>131</td>\n",
       "      <td>80</td>\n",
       "    </tr>\n",
       "    <tr>\n",
       "      <th>3</th>\n",
       "      <td>1.0</td>\n",
       "      <td>Eixample</td>\n",
       "      <td>Entire rental unit</td>\n",
       "      <td>Entire home/apt</td>\n",
       "      <td>4</td>\n",
       "      <td>1 bath</td>\n",
       "      <td>2.0</td>\n",
       "      <td>3.0</td>\n",
       "      <td>238</td>\n",
       "      <td>141</td>\n",
       "    </tr>\n",
       "    <tr>\n",
       "      <th>4</th>\n",
       "      <td>0.0</td>\n",
       "      <td>Eixample</td>\n",
       "      <td>Private room in home</td>\n",
       "      <td>Private room</td>\n",
       "      <td>3</td>\n",
       "      <td>1 private bath</td>\n",
       "      <td>2.0</td>\n",
       "      <td>2.0</td>\n",
       "      <td>98</td>\n",
       "      <td>65</td>\n",
       "    </tr>\n",
       "  </tbody>\n",
       "</table>\n",
       "</div>"
      ],
      "text/plain": [
       "   host_is_superhost neighbourhood_group_cleansed         property_type  \\\n",
       "0                0.0               Sants-Montjuïc    Entire rental unit   \n",
       "1                0.0                     Eixample    Entire rental unit   \n",
       "2                1.0                     Eixample    Entire rental unit   \n",
       "3                1.0                     Eixample    Entire rental unit   \n",
       "4                0.0                     Eixample  Private room in home   \n",
       "\n",
       "         room_type  accommodates  bathrooms_text  bedrooms  beds  \\\n",
       "0  Entire home/apt             5          1 bath       3.0   4.0   \n",
       "1  Entire home/apt             5          1 bath       2.0   3.0   \n",
       "2  Entire home/apt             4          1 bath       2.0   3.0   \n",
       "3  Entire home/apt             4          1 bath       2.0   3.0   \n",
       "4     Private room             3  1 private bath       2.0   2.0   \n",
       "\n",
       "   number_of_reviews  price  \n",
       "0                 93     81  \n",
       "1                 13    124  \n",
       "2                131     80  \n",
       "3                238    141  \n",
       "4                 98     65  "
      ]
     },
     "execution_count": 35,
     "metadata": {},
     "output_type": "execute_result"
    }
   ],
   "source": [
    "dataset.head()"
   ]
  },
  {
   "cell_type": "code",
   "execution_count": 36,
   "id": "0ffd5817",
   "metadata": {},
   "outputs": [],
   "source": [
    "features = dataset.drop('price', axis=1)"
   ]
  },
  {
   "cell_type": "code",
   "execution_count": 38,
   "id": "d2f67228",
   "metadata": {},
   "outputs": [],
   "source": [
    "target = dataset.price"
   ]
  },
  {
   "cell_type": "code",
   "execution_count": 41,
   "id": "947917f8",
   "metadata": {},
   "outputs": [
    {
     "data": {
      "text/plain": [
       "array(['categorical__neighbourhood_group_cleansed',\n",
       "       'categorical__property_type', 'categorical__room_type',\n",
       "       'categorical__bathrooms_text', 'numerical__host_is_superhost',\n",
       "       'numerical__accommodates', 'numerical__bedrooms',\n",
       "       'numerical__beds', 'numerical__number_of_reviews'], dtype=object)"
      ]
     },
     "execution_count": 41,
     "metadata": {},
     "output_type": "execute_result"
    }
   ],
   "source": [
    "transformer.get_feature_names_out()"
   ]
  },
  {
   "cell_type": "code",
   "execution_count": 42,
   "id": "ef9a0a5f",
   "metadata": {},
   "outputs": [],
   "source": [
    "cols = ['neighbourhood_group_cleansed',\n",
    "       'property_type', 'room_type',\n",
    "       'bathrooms_text', 'host_is_superhost',\n",
    "       'accommodates', 'bedrooms',\n",
    "       'beds', 'number_of_reviews']"
   ]
  },
  {
   "cell_type": "code",
   "execution_count": 44,
   "id": "8128116d",
   "metadata": {},
   "outputs": [],
   "source": [
    "f_transformed = pd.DataFrame(transformer.transform(features), columns = cols)"
   ]
  },
  {
   "cell_type": "code",
   "execution_count": 45,
   "id": "5b3c72b7",
   "metadata": {},
   "outputs": [
    {
     "data": {
      "text/html": [
       "<div>\n",
       "<style scoped>\n",
       "    .dataframe tbody tr th:only-of-type {\n",
       "        vertical-align: middle;\n",
       "    }\n",
       "\n",
       "    .dataframe tbody tr th {\n",
       "        vertical-align: top;\n",
       "    }\n",
       "\n",
       "    .dataframe thead th {\n",
       "        text-align: right;\n",
       "    }\n",
       "</style>\n",
       "<table border=\"1\" class=\"dataframe\">\n",
       "  <thead>\n",
       "    <tr style=\"text-align: right;\">\n",
       "      <th></th>\n",
       "      <th>neighbourhood_group_cleansed</th>\n",
       "      <th>property_type</th>\n",
       "      <th>room_type</th>\n",
       "      <th>bathrooms_text</th>\n",
       "      <th>host_is_superhost</th>\n",
       "      <th>accommodates</th>\n",
       "      <th>bedrooms</th>\n",
       "      <th>beds</th>\n",
       "      <th>number_of_reviews</th>\n",
       "    </tr>\n",
       "  </thead>\n",
       "  <tbody>\n",
       "    <tr>\n",
       "      <th>0</th>\n",
       "      <td>8.0</td>\n",
       "      <td>11.0</td>\n",
       "      <td>0.0</td>\n",
       "      <td>2.0</td>\n",
       "      <td>-0.470141</td>\n",
       "      <td>0.900114</td>\n",
       "      <td>1.540581</td>\n",
       "      <td>1.089246</td>\n",
       "      <td>0.584890</td>\n",
       "    </tr>\n",
       "    <tr>\n",
       "      <th>1</th>\n",
       "      <td>1.0</td>\n",
       "      <td>11.0</td>\n",
       "      <td>0.0</td>\n",
       "      <td>2.0</td>\n",
       "      <td>-0.470141</td>\n",
       "      <td>0.900114</td>\n",
       "      <td>0.384022</td>\n",
       "      <td>0.440774</td>\n",
       "      <td>-0.380976</td>\n",
       "    </tr>\n",
       "    <tr>\n",
       "      <th>2</th>\n",
       "      <td>1.0</td>\n",
       "      <td>11.0</td>\n",
       "      <td>0.0</td>\n",
       "      <td>2.0</td>\n",
       "      <td>2.127020</td>\n",
       "      <td>0.352152</td>\n",
       "      <td>0.384022</td>\n",
       "      <td>0.440774</td>\n",
       "      <td>1.043677</td>\n",
       "    </tr>\n",
       "    <tr>\n",
       "      <th>3</th>\n",
       "      <td>1.0</td>\n",
       "      <td>11.0</td>\n",
       "      <td>0.0</td>\n",
       "      <td>2.0</td>\n",
       "      <td>2.127020</td>\n",
       "      <td>0.352152</td>\n",
       "      <td>0.384022</td>\n",
       "      <td>0.440774</td>\n",
       "      <td>2.335523</td>\n",
       "    </tr>\n",
       "    <tr>\n",
       "      <th>4</th>\n",
       "      <td>1.0</td>\n",
       "      <td>27.0</td>\n",
       "      <td>2.0</td>\n",
       "      <td>3.0</td>\n",
       "      <td>-0.470141</td>\n",
       "      <td>-0.195810</td>\n",
       "      <td>0.384022</td>\n",
       "      <td>-0.207699</td>\n",
       "      <td>0.645257</td>\n",
       "    </tr>\n",
       "    <tr>\n",
       "      <th>...</th>\n",
       "      <td>...</td>\n",
       "      <td>...</td>\n",
       "      <td>...</td>\n",
       "      <td>...</td>\n",
       "      <td>...</td>\n",
       "      <td>...</td>\n",
       "      <td>...</td>\n",
       "      <td>...</td>\n",
       "      <td>...</td>\n",
       "    </tr>\n",
       "    <tr>\n",
       "      <th>2841</th>\n",
       "      <td>0.0</td>\n",
       "      <td>30.0</td>\n",
       "      <td>2.0</td>\n",
       "      <td>6.0</td>\n",
       "      <td>-0.470141</td>\n",
       "      <td>-1.291735</td>\n",
       "      <td>-0.772538</td>\n",
       "      <td>-0.207699</td>\n",
       "      <td>-0.296463</td>\n",
       "    </tr>\n",
       "    <tr>\n",
       "      <th>2842</th>\n",
       "      <td>7.0</td>\n",
       "      <td>27.0</td>\n",
       "      <td>2.0</td>\n",
       "      <td>2.0</td>\n",
       "      <td>-0.470141</td>\n",
       "      <td>-0.743773</td>\n",
       "      <td>-0.772538</td>\n",
       "      <td>-0.856171</td>\n",
       "      <td>-0.513783</td>\n",
       "    </tr>\n",
       "    <tr>\n",
       "      <th>2843</th>\n",
       "      <td>1.0</td>\n",
       "      <td>11.0</td>\n",
       "      <td>0.0</td>\n",
       "      <td>8.0</td>\n",
       "      <td>-0.470141</td>\n",
       "      <td>0.900114</td>\n",
       "      <td>1.540581</td>\n",
       "      <td>1.737718</td>\n",
       "      <td>-0.537929</td>\n",
       "    </tr>\n",
       "    <tr>\n",
       "      <th>2844</th>\n",
       "      <td>7.0</td>\n",
       "      <td>30.0</td>\n",
       "      <td>2.0</td>\n",
       "      <td>3.0</td>\n",
       "      <td>-0.470141</td>\n",
       "      <td>0.352152</td>\n",
       "      <td>0.384022</td>\n",
       "      <td>-0.856171</td>\n",
       "      <td>-0.525856</td>\n",
       "    </tr>\n",
       "    <tr>\n",
       "      <th>2845</th>\n",
       "      <td>1.0</td>\n",
       "      <td>30.0</td>\n",
       "      <td>2.0</td>\n",
       "      <td>4.0</td>\n",
       "      <td>-0.470141</td>\n",
       "      <td>-1.291735</td>\n",
       "      <td>-0.772538</td>\n",
       "      <td>-0.856171</td>\n",
       "      <td>0.307204</td>\n",
       "    </tr>\n",
       "  </tbody>\n",
       "</table>\n",
       "<p>2846 rows × 9 columns</p>\n",
       "</div>"
      ],
      "text/plain": [
       "      neighbourhood_group_cleansed  property_type  room_type  bathrooms_text  \\\n",
       "0                              8.0           11.0        0.0             2.0   \n",
       "1                              1.0           11.0        0.0             2.0   \n",
       "2                              1.0           11.0        0.0             2.0   \n",
       "3                              1.0           11.0        0.0             2.0   \n",
       "4                              1.0           27.0        2.0             3.0   \n",
       "...                            ...            ...        ...             ...   \n",
       "2841                           0.0           30.0        2.0             6.0   \n",
       "2842                           7.0           27.0        2.0             2.0   \n",
       "2843                           1.0           11.0        0.0             8.0   \n",
       "2844                           7.0           30.0        2.0             3.0   \n",
       "2845                           1.0           30.0        2.0             4.0   \n",
       "\n",
       "      host_is_superhost  accommodates  bedrooms      beds  number_of_reviews  \n",
       "0             -0.470141      0.900114  1.540581  1.089246           0.584890  \n",
       "1             -0.470141      0.900114  0.384022  0.440774          -0.380976  \n",
       "2              2.127020      0.352152  0.384022  0.440774           1.043677  \n",
       "3              2.127020      0.352152  0.384022  0.440774           2.335523  \n",
       "4             -0.470141     -0.195810  0.384022 -0.207699           0.645257  \n",
       "...                 ...           ...       ...       ...                ...  \n",
       "2841          -0.470141     -1.291735 -0.772538 -0.207699          -0.296463  \n",
       "2842          -0.470141     -0.743773 -0.772538 -0.856171          -0.513783  \n",
       "2843          -0.470141      0.900114  1.540581  1.737718          -0.537929  \n",
       "2844          -0.470141      0.352152  0.384022 -0.856171          -0.525856  \n",
       "2845          -0.470141     -1.291735 -0.772538 -0.856171           0.307204  \n",
       "\n",
       "[2846 rows x 9 columns]"
      ]
     },
     "execution_count": 45,
     "metadata": {},
     "output_type": "execute_result"
    }
   ],
   "source": [
    "f_transformed"
   ]
  },
  {
   "cell_type": "code",
   "execution_count": 54,
   "id": "559522c7",
   "metadata": {},
   "outputs": [],
   "source": [
    "target = np.log10(target)"
   ]
  },
  {
   "cell_type": "code",
   "execution_count": 58,
   "id": "23f82e83",
   "metadata": {},
   "outputs": [
    {
     "data": {
      "text/plain": [
       "<AxesSubplot: >"
      ]
     },
     "execution_count": 58,
     "metadata": {},
     "output_type": "execute_result"
    },
    {
     "data": {
      "image/png": "[encoded data removed]",
      "text/plain": [
       "<Figure size 640x480 with 1 Axes>"
      ]
     },
     "metadata": {},
     "output_type": "display_data"
    }
   ],
   "source": []
  },
  {
   "cell_type": "code",
   "execution_count": 59,
   "id": "befbc0fc",
   "metadata": {},
   "outputs": [
    {
     "data": {
      "text/html": [
       "<div>\n",
       "<style scoped>\n",
       "    .dataframe tbody tr th:only-of-type {\n",
       "        vertical-align: middle;\n",
       "    }\n",
       "\n",
       "    .dataframe tbody tr th {\n",
       "        vertical-align: top;\n",
       "    }\n",
       "\n",
       "    .dataframe thead th {\n",
       "        text-align: right;\n",
       "    }\n",
       "</style>\n",
       "<table border=\"1\" class=\"dataframe\">\n",
       "  <thead>\n",
       "    <tr style=\"text-align: right;\">\n",
       "      <th></th>\n",
       "      <th>host_is_superhost</th>\n",
       "      <th>neighbourhood_group_cleansed</th>\n",
       "      <th>property_type</th>\n",
       "      <th>room_type</th>\n",
       "      <th>accommodates</th>\n",
       "      <th>bathrooms_text</th>\n",
       "      <th>bedrooms</th>\n",
       "      <th>beds</th>\n",
       "      <th>number_of_reviews</th>\n",
       "      <th>price</th>\n",
       "    </tr>\n",
       "  </thead>\n",
       "  <tbody>\n",
       "    <tr>\n",
       "      <th>0</th>\n",
       "      <td>0.0</td>\n",
       "      <td>Sants-Montjuïc</td>\n",
       "      <td>Entire rental unit</td>\n",
       "      <td>Entire home/apt</td>\n",
       "      <td>5</td>\n",
       "      <td>1 bath</td>\n",
       "      <td>3.0</td>\n",
       "      <td>4.0</td>\n",
       "      <td>93</td>\n",
       "      <td>81</td>\n",
       "    </tr>\n",
       "    <tr>\n",
       "      <th>1</th>\n",
       "      <td>0.0</td>\n",
       "      <td>Eixample</td>\n",
       "      <td>Entire rental unit</td>\n",
       "      <td>Entire home/apt</td>\n",
       "      <td>5</td>\n",
       "      <td>1 bath</td>\n",
       "      <td>2.0</td>\n",
       "      <td>3.0</td>\n",
       "      <td>13</td>\n",
       "      <td>124</td>\n",
       "    </tr>\n",
       "    <tr>\n",
       "      <th>2</th>\n",
       "      <td>1.0</td>\n",
       "      <td>Eixample</td>\n",
       "      <td>Entire rental unit</td>\n",
       "      <td>Entire home/apt</td>\n",
       "      <td>4</td>\n",
       "      <td>1 bath</td>\n",
       "      <td>2.0</td>\n",
       "      <td>3.0</td>\n",
       "      <td>131</td>\n",
       "      <td>80</td>\n",
       "    </tr>\n",
       "    <tr>\n",
       "      <th>3</th>\n",
       "      <td>1.0</td>\n",
       "      <td>Eixample</td>\n",
       "      <td>Entire rental unit</td>\n",
       "      <td>Entire home/apt</td>\n",
       "      <td>4</td>\n",
       "      <td>1 bath</td>\n",
       "      <td>2.0</td>\n",
       "      <td>3.0</td>\n",
       "      <td>238</td>\n",
       "      <td>141</td>\n",
       "    </tr>\n",
       "    <tr>\n",
       "      <th>4</th>\n",
       "      <td>0.0</td>\n",
       "      <td>Eixample</td>\n",
       "      <td>Private room in home</td>\n",
       "      <td>Private room</td>\n",
       "      <td>3</td>\n",
       "      <td>1 private bath</td>\n",
       "      <td>2.0</td>\n",
       "      <td>2.0</td>\n",
       "      <td>98</td>\n",
       "      <td>65</td>\n",
       "    </tr>\n",
       "  </tbody>\n",
       "</table>\n",
       "</div>"
      ],
      "text/plain": [
       "   host_is_superhost neighbourhood_group_cleansed         property_type  \\\n",
       "0                0.0               Sants-Montjuïc    Entire rental unit   \n",
       "1                0.0                     Eixample    Entire rental unit   \n",
       "2                1.0                     Eixample    Entire rental unit   \n",
       "3                1.0                     Eixample    Entire rental unit   \n",
       "4                0.0                     Eixample  Private room in home   \n",
       "\n",
       "         room_type  accommodates  bathrooms_text  bedrooms  beds  \\\n",
       "0  Entire home/apt             5          1 bath       3.0   4.0   \n",
       "1  Entire home/apt             5          1 bath       2.0   3.0   \n",
       "2  Entire home/apt             4          1 bath       2.0   3.0   \n",
       "3  Entire home/apt             4          1 bath       2.0   3.0   \n",
       "4     Private room             3  1 private bath       2.0   2.0   \n",
       "\n",
       "   number_of_reviews  price  \n",
       "0                 93     81  \n",
       "1                 13    124  \n",
       "2                131     80  \n",
       "3                238    141  \n",
       "4                 98     65  "
      ]
     },
     "execution_count": 59,
     "metadata": {},
     "output_type": "execute_result"
    }
   ],
   "source": [
    "dataset.head()"
   ]
  },
  {
   "cell_type": "code",
   "execution_count": 60,
   "id": "0e1a2a5f",
   "metadata": {},
   "outputs": [
    {
     "data": {
      "text/html": [
       "<div>\n",
       "<style scoped>\n",
       "    .dataframe tbody tr th:only-of-type {\n",
       "        vertical-align: middle;\n",
       "    }\n",
       "\n",
       "    .dataframe tbody tr th {\n",
       "        vertical-align: top;\n",
       "    }\n",
       "\n",
       "    .dataframe thead th {\n",
       "        text-align: right;\n",
       "    }\n",
       "</style>\n",
       "<table border=\"1\" class=\"dataframe\">\n",
       "  <thead>\n",
       "    <tr style=\"text-align: right;\">\n",
       "      <th></th>\n",
       "      <th>neighbourhood_group_cleansed</th>\n",
       "      <th>property_type</th>\n",
       "      <th>room_type</th>\n",
       "      <th>bathrooms_text</th>\n",
       "      <th>host_is_superhost</th>\n",
       "      <th>accommodates</th>\n",
       "      <th>bedrooms</th>\n",
       "      <th>beds</th>\n",
       "      <th>number_of_reviews</th>\n",
       "      <th>price</th>\n",
       "    </tr>\n",
       "  </thead>\n",
       "  <tbody>\n",
       "    <tr>\n",
       "      <th>0</th>\n",
       "      <td>8.0</td>\n",
       "      <td>11.0</td>\n",
       "      <td>0.0</td>\n",
       "      <td>2.0</td>\n",
       "      <td>-0.470141</td>\n",
       "      <td>0.900114</td>\n",
       "      <td>1.540581</td>\n",
       "      <td>1.089246</td>\n",
       "      <td>0.584890</td>\n",
       "      <td>1.908485</td>\n",
       "    </tr>\n",
       "    <tr>\n",
       "      <th>1</th>\n",
       "      <td>1.0</td>\n",
       "      <td>11.0</td>\n",
       "      <td>0.0</td>\n",
       "      <td>2.0</td>\n",
       "      <td>-0.470141</td>\n",
       "      <td>0.900114</td>\n",
       "      <td>0.384022</td>\n",
       "      <td>0.440774</td>\n",
       "      <td>-0.380976</td>\n",
       "      <td>2.093422</td>\n",
       "    </tr>\n",
       "    <tr>\n",
       "      <th>2</th>\n",
       "      <td>1.0</td>\n",
       "      <td>11.0</td>\n",
       "      <td>0.0</td>\n",
       "      <td>2.0</td>\n",
       "      <td>2.127020</td>\n",
       "      <td>0.352152</td>\n",
       "      <td>0.384022</td>\n",
       "      <td>0.440774</td>\n",
       "      <td>1.043677</td>\n",
       "      <td>1.903090</td>\n",
       "    </tr>\n",
       "    <tr>\n",
       "      <th>3</th>\n",
       "      <td>1.0</td>\n",
       "      <td>11.0</td>\n",
       "      <td>0.0</td>\n",
       "      <td>2.0</td>\n",
       "      <td>2.127020</td>\n",
       "      <td>0.352152</td>\n",
       "      <td>0.384022</td>\n",
       "      <td>0.440774</td>\n",
       "      <td>2.335523</td>\n",
       "      <td>2.149219</td>\n",
       "    </tr>\n",
       "    <tr>\n",
       "      <th>4</th>\n",
       "      <td>1.0</td>\n",
       "      <td>27.0</td>\n",
       "      <td>2.0</td>\n",
       "      <td>3.0</td>\n",
       "      <td>-0.470141</td>\n",
       "      <td>-0.195810</td>\n",
       "      <td>0.384022</td>\n",
       "      <td>-0.207699</td>\n",
       "      <td>0.645257</td>\n",
       "      <td>1.812913</td>\n",
       "    </tr>\n",
       "    <tr>\n",
       "      <th>...</th>\n",
       "      <td>...</td>\n",
       "      <td>...</td>\n",
       "      <td>...</td>\n",
       "      <td>...</td>\n",
       "      <td>...</td>\n",
       "      <td>...</td>\n",
       "      <td>...</td>\n",
       "      <td>...</td>\n",
       "      <td>...</td>\n",
       "      <td>...</td>\n",
       "    </tr>\n",
       "    <tr>\n",
       "      <th>2841</th>\n",
       "      <td>0.0</td>\n",
       "      <td>30.0</td>\n",
       "      <td>2.0</td>\n",
       "      <td>6.0</td>\n",
       "      <td>-0.470141</td>\n",
       "      <td>-1.291735</td>\n",
       "      <td>-0.772538</td>\n",
       "      <td>-0.207699</td>\n",
       "      <td>-0.296463</td>\n",
       "      <td>1.770852</td>\n",
       "    </tr>\n",
       "    <tr>\n",
       "      <th>2842</th>\n",
       "      <td>7.0</td>\n",
       "      <td>27.0</td>\n",
       "      <td>2.0</td>\n",
       "      <td>2.0</td>\n",
       "      <td>-0.470141</td>\n",
       "      <td>-0.743773</td>\n",
       "      <td>-0.772538</td>\n",
       "      <td>-0.856171</td>\n",
       "      <td>-0.513783</td>\n",
       "      <td>1.778151</td>\n",
       "    </tr>\n",
       "    <tr>\n",
       "      <th>2843</th>\n",
       "      <td>1.0</td>\n",
       "      <td>11.0</td>\n",
       "      <td>0.0</td>\n",
       "      <td>8.0</td>\n",
       "      <td>-0.470141</td>\n",
       "      <td>0.900114</td>\n",
       "      <td>1.540581</td>\n",
       "      <td>1.737718</td>\n",
       "      <td>-0.537929</td>\n",
       "      <td>2.204120</td>\n",
       "    </tr>\n",
       "    <tr>\n",
       "      <th>2844</th>\n",
       "      <td>7.0</td>\n",
       "      <td>30.0</td>\n",
       "      <td>2.0</td>\n",
       "      <td>3.0</td>\n",
       "      <td>-0.470141</td>\n",
       "      <td>0.352152</td>\n",
       "      <td>0.384022</td>\n",
       "      <td>-0.856171</td>\n",
       "      <td>-0.525856</td>\n",
       "      <td>1.903090</td>\n",
       "    </tr>\n",
       "    <tr>\n",
       "      <th>2845</th>\n",
       "      <td>1.0</td>\n",
       "      <td>30.0</td>\n",
       "      <td>2.0</td>\n",
       "      <td>4.0</td>\n",
       "      <td>-0.470141</td>\n",
       "      <td>-1.291735</td>\n",
       "      <td>-0.772538</td>\n",
       "      <td>-0.856171</td>\n",
       "      <td>0.307204</td>\n",
       "      <td>1.556303</td>\n",
       "    </tr>\n",
       "  </tbody>\n",
       "</table>\n",
       "<p>2846 rows × 10 columns</p>\n",
       "</div>"
      ],
      "text/plain": [
       "      neighbourhood_group_cleansed  property_type  room_type  bathrooms_text  \\\n",
       "0                              8.0           11.0        0.0             2.0   \n",
       "1                              1.0           11.0        0.0             2.0   \n",
       "2                              1.0           11.0        0.0             2.0   \n",
       "3                              1.0           11.0        0.0             2.0   \n",
       "4                              1.0           27.0        2.0             3.0   \n",
       "...                            ...            ...        ...             ...   \n",
       "2841                           0.0           30.0        2.0             6.0   \n",
       "2842                           7.0           27.0        2.0             2.0   \n",
       "2843                           1.0           11.0        0.0             8.0   \n",
       "2844                           7.0           30.0        2.0             3.0   \n",
       "2845                           1.0           30.0        2.0             4.0   \n",
       "\n",
       "      host_is_superhost  accommodates  bedrooms      beds  number_of_reviews  \\\n",
       "0             -0.470141      0.900114  1.540581  1.089246           0.584890   \n",
       "1             -0.470141      0.900114  0.384022  0.440774          -0.380976   \n",
       "2              2.127020      0.352152  0.384022  0.440774           1.043677   \n",
       "3              2.127020      0.352152  0.384022  0.440774           2.335523   \n",
       "4             -0.470141     -0.195810  0.384022 -0.207699           0.645257   \n",
       "...                 ...           ...       ...       ...                ...   \n",
       "2841          -0.470141     -1.291735 -0.772538 -0.207699          -0.296463   \n",
       "2842          -0.470141     -0.743773 -0.772538 -0.856171          -0.513783   \n",
       "2843          -0.470141      0.900114  1.540581  1.737718          -0.537929   \n",
       "2844          -0.470141      0.352152  0.384022 -0.856171          -0.525856   \n",
       "2845          -0.470141     -1.291735 -0.772538 -0.856171           0.307204   \n",
       "\n",
       "         price  \n",
       "0     1.908485  \n",
       "1     2.093422  \n",
       "2     1.903090  \n",
       "3     2.149219  \n",
       "4     1.812913  \n",
       "...        ...  \n",
       "2841  1.770852  \n",
       "2842  1.778151  \n",
       "2843  2.204120  \n",
       "2844  1.903090  \n",
       "2845  1.556303  \n",
       "\n",
       "[2846 rows x 10 columns]"
      ]
     },
     "execution_count": 60,
     "metadata": {},
     "output_type": "execute_result"
    }
   ],
   "source": [
    "f_transformed.join(target)"
   ]
  },
  {
   "cell_type": "code",
   "execution_count": 62,
   "id": "cd2dea00",
   "metadata": {},
   "outputs": [
    {
     "data": {
      "text/html": [
       "<div>\n",
       "<style scoped>\n",
       "    .dataframe tbody tr th:only-of-type {\n",
       "        vertical-align: middle;\n",
       "    }\n",
       "\n",
       "    .dataframe tbody tr th {\n",
       "        vertical-align: top;\n",
       "    }\n",
       "\n",
       "    .dataframe thead th {\n",
       "        text-align: right;\n",
       "    }\n",
       "</style>\n",
       "<table border=\"1\" class=\"dataframe\">\n",
       "  <thead>\n",
       "    <tr style=\"text-align: right;\">\n",
       "      <th></th>\n",
       "      <th>categorical_features</th>\n",
       "    </tr>\n",
       "  </thead>\n",
       "  <tbody>\n",
       "    <tr>\n",
       "      <th>0</th>\n",
       "      <td>neighbourhood_group_cleansed</td>\n",
       "    </tr>\n",
       "    <tr>\n",
       "      <th>1</th>\n",
       "      <td>property_type</td>\n",
       "    </tr>\n",
       "    <tr>\n",
       "      <th>2</th>\n",
       "      <td>room_type</td>\n",
       "    </tr>\n",
       "    <tr>\n",
       "      <th>3</th>\n",
       "      <td>bathrooms_text</td>\n",
       "    </tr>\n",
       "  </tbody>\n",
       "</table>\n",
       "</div>"
      ],
      "text/plain": [
       "           categorical_features\n",
       "0  neighbourhood_group_cleansed\n",
       "1                 property_type\n",
       "2                     room_type\n",
       "3                bathrooms_text"
      ]
     },
     "execution_count": 62,
     "metadata": {},
     "output_type": "execute_result"
    }
   ],
   "source": [
    "pd.DataFrame({'categorical_features': ['neighbourhood_group_cleansed',\n",
    "       'property_type', 'room_type',\n",
    "       'bathrooms_text']})"
   ]
  },
  {
   "cell_type": "code",
   "execution_count": null,
   "id": "16ad832d",
   "metadata": {},
   "outputs": [],
   "source": []
  }
 ],
 "metadata": {
  "kernelspec": {
   "display_name": "Python 3 (ipykernel)",
   "language": "python",
   "name": "python3"
  },
  "language_info": {
   "codemirror_mode": {
    "name": "ipython",
    "version": 3
   },
   "file_extension": ".py",
   "mimetype": "text/x-python",
   "name": "python",
   "nbconvert_exporter": "python",
   "pygments_lexer": "ipython3",
   "version": "3.11.0"
  },
  "toc": {
   "base_numbering": 1,
   "nav_menu": {},
   "number_sections": true,
   "sideBar": true,
   "skip_h1_title": false,
   "title_cell": "Table of Contents",
   "title_sidebar": "Contents",
   "toc_cell": false,
   "toc_position": {},
   "toc_section_display": true,
   "toc_window_display": false
  }
 },
 "nbformat": 4,
 "nbformat_minor": 5
}
