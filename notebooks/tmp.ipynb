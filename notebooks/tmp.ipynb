{
 "cells": [
  {
   "cell_type": "code",
   "execution_count": 1,
   "id": "5adbc39f",
   "metadata": {},
   "outputs": [],
   "source": [
    "import lightgbm as lgb"
   ]
  },
  {
   "cell_type": "code",
   "execution_count": 49,
   "id": "5e6db051",
   "metadata": {},
   "outputs": [],
   "source": [
    "import pandas as pd\n",
    "import numpy as np"
   ]
  },
  {
   "cell_type": "code",
   "execution_count": 31,
   "id": "9e69fdb0",
   "metadata": {},
   "outputs": [],
   "source": [
    "from sklearn.compose import ColumnTransformer"
   ]
  },
  {
   "cell_type": "code",
   "execution_count": 32,
   "id": "adc635bf",
   "metadata": {},
   "outputs": [],
   "source": [
    "from src.utils.functions import load_pickle"
   ]
  },
  {
   "cell_type": "code",
   "execution_count": 118,
   "id": "ae6cf217",
   "metadata": {},
   "outputs": [],
   "source": [
    "from sklearn.metrics import r2_score, mean_absolute_percentage_error, mean_absolute_error, mean_squared_error"
   ]
  },
  {
   "cell_type": "code",
   "execution_count": 121,
   "id": "cd871ef4",
   "metadata": {},
   "outputs": [],
   "source": [
    "ev_hist = pd.read_csv('../reports/lgbm_regressor_eval.csv', index_col=0)"
   ]
  },
  {
   "cell_type": "code",
   "execution_count": 122,
   "id": "5d393224",
   "metadata": {},
   "outputs": [
    {
     "data": {
      "text/html": [
       "<div>\n",
       "<style scoped>\n",
       "    .dataframe tbody tr th:only-of-type {\n",
       "        vertical-align: middle;\n",
       "    }\n",
       "\n",
       "    .dataframe tbody tr th {\n",
       "        vertical-align: top;\n",
       "    }\n",
       "\n",
       "    .dataframe thead th {\n",
       "        text-align: right;\n",
       "    }\n",
       "</style>\n",
       "<table border=\"1\" class=\"dataframe\">\n",
       "  <thead>\n",
       "    <tr style=\"text-align: right;\">\n",
       "      <th></th>\n",
       "      <th>l2-mean</th>\n",
       "      <th>l2-stdv</th>\n",
       "    </tr>\n",
       "  </thead>\n",
       "  <tbody>\n",
       "    <tr>\n",
       "      <th>0</th>\n",
       "      <td>0.097503</td>\n",
       "      <td>0.002509</td>\n",
       "    </tr>\n",
       "    <tr>\n",
       "      <th>1</th>\n",
       "      <td>0.097402</td>\n",
       "      <td>0.002506</td>\n",
       "    </tr>\n",
       "    <tr>\n",
       "      <th>2</th>\n",
       "      <td>0.097301</td>\n",
       "      <td>0.002504</td>\n",
       "    </tr>\n",
       "    <tr>\n",
       "      <th>3</th>\n",
       "      <td>0.097201</td>\n",
       "      <td>0.002501</td>\n",
       "    </tr>\n",
       "    <tr>\n",
       "      <th>4</th>\n",
       "      <td>0.097101</td>\n",
       "      <td>0.002498</td>\n",
       "    </tr>\n",
       "    <tr>\n",
       "      <th>...</th>\n",
       "      <td>...</td>\n",
       "      <td>...</td>\n",
       "    </tr>\n",
       "    <tr>\n",
       "      <th>6109</th>\n",
       "      <td>0.043544</td>\n",
       "      <td>0.001306</td>\n",
       "    </tr>\n",
       "    <tr>\n",
       "      <th>6110</th>\n",
       "      <td>0.043544</td>\n",
       "      <td>0.001306</td>\n",
       "    </tr>\n",
       "    <tr>\n",
       "      <th>6111</th>\n",
       "      <td>0.043544</td>\n",
       "      <td>0.001306</td>\n",
       "    </tr>\n",
       "    <tr>\n",
       "      <th>6112</th>\n",
       "      <td>0.043544</td>\n",
       "      <td>0.001306</td>\n",
       "    </tr>\n",
       "    <tr>\n",
       "      <th>6113</th>\n",
       "      <td>0.043544</td>\n",
       "      <td>0.001306</td>\n",
       "    </tr>\n",
       "  </tbody>\n",
       "</table>\n",
       "<p>6114 rows × 2 columns</p>\n",
       "</div>"
      ],
      "text/plain": [
       "       l2-mean   l2-stdv\n",
       "0     0.097503  0.002509\n",
       "1     0.097402  0.002506\n",
       "2     0.097301  0.002504\n",
       "3     0.097201  0.002501\n",
       "4     0.097101  0.002498\n",
       "...        ...       ...\n",
       "6109  0.043544  0.001306\n",
       "6110  0.043544  0.001306\n",
       "6111  0.043544  0.001306\n",
       "6112  0.043544  0.001306\n",
       "6113  0.043544  0.001306\n",
       "\n",
       "[6114 rows x 2 columns]"
      ]
     },
     "execution_count": 122,
     "metadata": {},
     "output_type": "execute_result"
    }
   ],
   "source": [
    "ev_hist"
   ]
  },
  {
   "cell_type": "code",
   "execution_count": 123,
   "id": "e482164f",
   "metadata": {},
   "outputs": [
    {
     "data": {
      "text/plain": [
       "<AxesSubplot: >"
      ]
     },
     "execution_count": 123,
     "metadata": {},
     "output_type": "execute_result"
    },
    {
     "data": {
      "image/png": "[encoded data removed]",
      "text/plain": [
       "<Figure size 640x480 with 1 Axes>"
      ]
     },
     "metadata": {},
     "output_type": "display_data"
    }
   ],
   "source": [
    "ev_hist['l2-mean'].plot()"
   ]
  },
  {
   "cell_type": "code",
   "execution_count": 124,
   "id": "6bc11d58",
   "metadata": {},
   "outputs": [
    {
     "data": {
      "text/plain": [
       "1.0513794883615641"
      ]
     },
     "execution_count": 124,
     "metadata": {},
     "output_type": "execute_result"
    }
   ],
   "source": [
    "(10**0.043519)**0.5"
   ]
  },
  {
   "cell_type": "code",
   "execution_count": 125,
   "id": "8095a944",
   "metadata": {},
   "outputs": [],
   "source": [
    "model = lgb.Booster(model_file='../models/lgbm_regressor.txt')"
   ]
  },
  {
   "cell_type": "code",
   "execution_count": 126,
   "id": "05cd7d6a",
   "metadata": {},
   "outputs": [
    {
     "data": {
      "text/plain": [
       "['host_is_superhost',\n",
       " 'neighbourhood_group_cleansed',\n",
       " 'property_type',\n",
       " 'room_type',\n",
       " 'accommodates',\n",
       " 'bathrooms_text',\n",
       " 'bedrooms',\n",
       " 'beds',\n",
       " 'number_of_reviews']"
      ]
     },
     "execution_count": 126,
     "metadata": {},
     "output_type": "execute_result"
    }
   ],
   "source": [
    "model.feature_name()"
   ]
  },
  {
   "cell_type": "code",
   "execution_count": 107,
   "id": "c34e834b",
   "metadata": {},
   "outputs": [
    {
     "data": {
      "text/plain": [
       "9"
      ]
     },
     "execution_count": 107,
     "metadata": {},
     "output_type": "execute_result"
    }
   ],
   "source": [
    "model.num_feature()"
   ]
  },
  {
   "cell_type": "code",
   "execution_count": 127,
   "id": "a66956df",
   "metadata": {},
   "outputs": [
    {
     "data": {
      "text/plain": [
       "(2846, 10)"
      ]
     },
     "execution_count": 127,
     "metadata": {},
     "output_type": "execute_result"
    }
   ],
   "source": [
    "df = pd.read_csv('../data/processed/test.csv')\n",
    "df.shape"
   ]
  },
  {
   "cell_type": "code",
   "execution_count": 128,
   "id": "4427671a",
   "metadata": {},
   "outputs": [
    {
     "data": {
      "text/html": [
       "<div>\n",
       "<style scoped>\n",
       "    .dataframe tbody tr th:only-of-type {\n",
       "        vertical-align: middle;\n",
       "    }\n",
       "\n",
       "    .dataframe tbody tr th {\n",
       "        vertical-align: top;\n",
       "    }\n",
       "\n",
       "    .dataframe thead th {\n",
       "        text-align: right;\n",
       "    }\n",
       "</style>\n",
       "<table border=\"1\" class=\"dataframe\">\n",
       "  <thead>\n",
       "    <tr style=\"text-align: right;\">\n",
       "      <th></th>\n",
       "      <th>neighbourhood_group_cleansed</th>\n",
       "      <th>property_type</th>\n",
       "      <th>room_type</th>\n",
       "      <th>bathrooms_text</th>\n",
       "      <th>host_is_superhost</th>\n",
       "      <th>accommodates</th>\n",
       "      <th>bedrooms</th>\n",
       "      <th>beds</th>\n",
       "      <th>number_of_reviews</th>\n",
       "      <th>price</th>\n",
       "    </tr>\n",
       "  </thead>\n",
       "  <tbody>\n",
       "    <tr>\n",
       "      <th>0</th>\n",
       "      <td>8.0</td>\n",
       "      <td>11.0</td>\n",
       "      <td>0.0</td>\n",
       "      <td>2.0</td>\n",
       "      <td>-0.470141</td>\n",
       "      <td>0.900114</td>\n",
       "      <td>1.540581</td>\n",
       "      <td>1.089246</td>\n",
       "      <td>0.584890</td>\n",
       "      <td>1.908485</td>\n",
       "    </tr>\n",
       "    <tr>\n",
       "      <th>1</th>\n",
       "      <td>1.0</td>\n",
       "      <td>11.0</td>\n",
       "      <td>0.0</td>\n",
       "      <td>2.0</td>\n",
       "      <td>-0.470141</td>\n",
       "      <td>0.900114</td>\n",
       "      <td>0.384022</td>\n",
       "      <td>0.440774</td>\n",
       "      <td>-0.380976</td>\n",
       "      <td>2.093422</td>\n",
       "    </tr>\n",
       "    <tr>\n",
       "      <th>2</th>\n",
       "      <td>1.0</td>\n",
       "      <td>11.0</td>\n",
       "      <td>0.0</td>\n",
       "      <td>2.0</td>\n",
       "      <td>2.127020</td>\n",
       "      <td>0.352152</td>\n",
       "      <td>0.384022</td>\n",
       "      <td>0.440774</td>\n",
       "      <td>1.043677</td>\n",
       "      <td>1.903090</td>\n",
       "    </tr>\n",
       "    <tr>\n",
       "      <th>3</th>\n",
       "      <td>1.0</td>\n",
       "      <td>11.0</td>\n",
       "      <td>0.0</td>\n",
       "      <td>2.0</td>\n",
       "      <td>2.127020</td>\n",
       "      <td>0.352152</td>\n",
       "      <td>0.384022</td>\n",
       "      <td>0.440774</td>\n",
       "      <td>2.335523</td>\n",
       "      <td>2.149219</td>\n",
       "    </tr>\n",
       "    <tr>\n",
       "      <th>4</th>\n",
       "      <td>1.0</td>\n",
       "      <td>27.0</td>\n",
       "      <td>2.0</td>\n",
       "      <td>3.0</td>\n",
       "      <td>-0.470141</td>\n",
       "      <td>-0.195810</td>\n",
       "      <td>0.384022</td>\n",
       "      <td>-0.207699</td>\n",
       "      <td>0.645257</td>\n",
       "      <td>1.812913</td>\n",
       "    </tr>\n",
       "  </tbody>\n",
       "</table>\n",
       "</div>"
      ],
      "text/plain": [
       "   neighbourhood_group_cleansed  property_type  room_type  bathrooms_text  \\\n",
       "0                           8.0           11.0        0.0             2.0   \n",
       "1                           1.0           11.0        0.0             2.0   \n",
       "2                           1.0           11.0        0.0             2.0   \n",
       "3                           1.0           11.0        0.0             2.0   \n",
       "4                           1.0           27.0        2.0             3.0   \n",
       "\n",
       "   host_is_superhost  accommodates  bedrooms      beds  number_of_reviews  \\\n",
       "0          -0.470141      0.900114  1.540581  1.089246           0.584890   \n",
       "1          -0.470141      0.900114  0.384022  0.440774          -0.380976   \n",
       "2           2.127020      0.352152  0.384022  0.440774           1.043677   \n",
       "3           2.127020      0.352152  0.384022  0.440774           2.335523   \n",
       "4          -0.470141     -0.195810  0.384022 -0.207699           0.645257   \n",
       "\n",
       "      price  \n",
       "0  1.908485  \n",
       "1  2.093422  \n",
       "2  1.903090  \n",
       "3  2.149219  \n",
       "4  1.812913  "
      ]
     },
     "execution_count": 128,
     "metadata": {},
     "output_type": "execute_result"
    }
   ],
   "source": [
    "df.head()"
   ]
  },
  {
   "cell_type": "code",
   "execution_count": 72,
   "id": "9268b47f",
   "metadata": {},
   "outputs": [],
   "source": [
    "categorical_features = pd.read_csv(\n",
    "        '../data/processed/categorical_feature_names.csv'\n",
    "    ).categorical.to_list()"
   ]
  },
  {
   "cell_type": "code",
   "execution_count": 73,
   "id": "c56a5b57",
   "metadata": {
    "scrolled": true
   },
   "outputs": [
    {
     "data": {
      "text/plain": [
       "['neighbourhood_group_cleansed',\n",
       " 'property_type',\n",
       " 'room_type',\n",
       " 'bathrooms_text']"
      ]
     },
     "execution_count": 73,
     "metadata": {},
     "output_type": "execute_result"
    }
   ],
   "source": [
    "categorical_features"
   ]
  },
  {
   "cell_type": "code",
   "execution_count": 129,
   "id": "03ee3d7a",
   "metadata": {},
   "outputs": [
    {
     "data": {
      "text/plain": [
       "(2846, 9)"
      ]
     },
     "execution_count": 129,
     "metadata": {},
     "output_type": "execute_result"
    }
   ],
   "source": [
    "features = df.drop('price', axis=1)\n",
    "features.shape"
   ]
  },
  {
   "cell_type": "code",
   "execution_count": 130,
   "id": "47d08ca5",
   "metadata": {},
   "outputs": [],
   "source": [
    "target = df.price"
   ]
  },
  {
   "cell_type": "code",
   "execution_count": 131,
   "id": "c4f25a26",
   "metadata": {},
   "outputs": [],
   "source": [
    "preds = model.predict(features.values)"
   ]
  },
  {
   "cell_type": "code",
   "execution_count": 132,
   "id": "9a8e0c24",
   "metadata": {},
   "outputs": [
    {
     "data": {
      "text/plain": [
       "0.06815713544941304"
      ]
     },
     "execution_count": 132,
     "metadata": {},
     "output_type": "execute_result"
    }
   ],
   "source": [
    "r2_score(target, preds)"
   ]
  },
  {
   "cell_type": "code",
   "execution_count": 133,
   "id": "ae5c935c",
   "metadata": {},
   "outputs": [
    {
     "data": {
      "text/plain": [
       "51.07827007833269"
      ]
     },
     "execution_count": 133,
     "metadata": {},
     "output_type": "execute_result"
    }
   ],
   "source": [
    "mean_absolute_error(10**target, 10**preds)"
   ]
  },
  {
   "cell_type": "code",
   "execution_count": 134,
   "id": "73c6cda0",
   "metadata": {},
   "outputs": [
    {
     "data": {
      "text/plain": [
       "0.550835701588401"
      ]
     },
     "execution_count": 134,
     "metadata": {},
     "output_type": "execute_result"
    }
   ],
   "source": [
    "mean_absolute_percentage_error(10**target, 10**preds)"
   ]
  },
  {
   "cell_type": "code",
   "execution_count": 135,
   "id": "ef8e2e8e",
   "metadata": {},
   "outputs": [
    {
     "data": {
      "text/plain": [
       "90.39704716945093"
      ]
     },
     "execution_count": 135,
     "metadata": {},
     "output_type": "execute_result"
    }
   ],
   "source": [
    "mean_squared_error(10**target, 10**preds)**0.5"
   ]
  },
  {
   "cell_type": "markdown",
   "id": "5959b79a",
   "metadata": {},
   "source": [
    "## API"
   ]
  },
  {
   "cell_type": "code",
   "execution_count": 142,
   "id": "389dffef",
   "metadata": {},
   "outputs": [],
   "source": [
    "import requests"
   ]
  },
  {
   "cell_type": "code",
   "execution_count": 160,
   "id": "6e5475b5",
   "metadata": {},
   "outputs": [],
   "source": [
    "url = \"http://localhost:8000/predict\"\n",
    "headers = {\"content-type\": \"application/json\"}"
   ]
  },
  {
   "cell_type": "code",
   "execution_count": 161,
   "id": "0dfb8640",
   "metadata": {},
   "outputs": [],
   "source": [
    "raw_df = pd.read_csv('../data/raw/test.csv')"
   ]
  },
  {
   "cell_type": "code",
   "execution_count": 201,
   "id": "798ed006",
   "metadata": {},
   "outputs": [],
   "source": [
    "payload = {\n",
    "    'data': [raw_df.columns.to_list()] + raw_df[:5].values.tolist()\n",
    "}"
   ]
  },
  {
   "cell_type": "code",
   "execution_count": 228,
   "id": "005f58b6",
   "metadata": {},
   "outputs": [],
   "source": [
    "payload['data'][5][4] = 10"
   ]
  },
  {
   "cell_type": "code",
   "execution_count": 203,
   "id": "31006507",
   "metadata": {},
   "outputs": [
    {
     "data": {
      "text/plain": [
       "[['host_is_superhost',\n",
       "  'neighbourhood_group_cleansed',\n",
       "  'property_type',\n",
       "  'room_type',\n",
       "  'accommodates',\n",
       "  'bathrooms_text',\n",
       "  'bedrooms',\n",
       "  'beds',\n",
       "  'number_of_reviews',\n",
       "  'price'],\n",
       " ['f',\n",
       "  'Sants-Montjuïc',\n",
       "  'Entire rental unit',\n",
       "  'Entire home/apt',\n",
       "  10,\n",
       "  '1 bath',\n",
       "  3.0,\n",
       "  4.0,\n",
       "  93,\n",
       "  '$81.00'],\n",
       " ['f',\n",
       "  'Eixample',\n",
       "  'Entire rental unit',\n",
       "  'Entire home/apt',\n",
       "  5,\n",
       "  '1 bath',\n",
       "  2.0,\n",
       "  3.0,\n",
       "  13,\n",
       "  '$124.00'],\n",
       " ['t',\n",
       "  'Eixample',\n",
       "  'Entire rental unit',\n",
       "  'Entire home/apt',\n",
       "  4,\n",
       "  '1 bath',\n",
       "  2.0,\n",
       "  3.0,\n",
       "  131,\n",
       "  '$80.00'],\n",
       " ['t',\n",
       "  'Eixample',\n",
       "  'Entire rental unit',\n",
       "  'Entire home/apt',\n",
       "  4,\n",
       "  '1 bath',\n",
       "  2.0,\n",
       "  3.0,\n",
       "  238,\n",
       "  '$141.00'],\n",
       " ['f',\n",
       "  'Eixample',\n",
       "  'Private room in home',\n",
       "  'Private room',\n",
       "  3,\n",
       "  '1 private bath',\n",
       "  2.0,\n",
       "  2.0,\n",
       "  98,\n",
       "  '$65.00']]"
      ]
     },
     "execution_count": 203,
     "metadata": {},
     "output_type": "execute_result"
    }
   ],
   "source": [
    "payload['data']"
   ]
  },
  {
   "cell_type": "code",
   "execution_count": 229,
   "id": "4605db33",
   "metadata": {},
   "outputs": [],
   "source": [
    "response = requests.post(url, json=payload, headers=headers)"
   ]
  },
  {
   "cell_type": "code",
   "execution_count": 230,
   "id": "574918a6",
   "metadata": {},
   "outputs": [
    {
     "data": {
      "text/plain": [
       "200"
      ]
     },
     "execution_count": 230,
     "metadata": {},
     "output_type": "execute_result"
    }
   ],
   "source": [
    "response.status_code"
   ]
  },
  {
   "cell_type": "code",
   "execution_count": 231,
   "id": "86bf8c9e",
   "metadata": {},
   "outputs": [
    {
     "data": {
      "text/plain": [
       "'{\"data\":[-1.0,-1.0,-1.0,-1.0,-1.0]}'"
      ]
     },
     "execution_count": 231,
     "metadata": {},
     "output_type": "execute_result"
    }
   ],
   "source": [
    "response.text"
   ]
  },
  {
   "cell_type": "code",
   "execution_count": 215,
   "id": "b80b54bf",
   "metadata": {},
   "outputs": [
    {
     "data": {
      "text/plain": [
       "0     $81.00\n",
       "1    $124.00\n",
       "2     $80.00\n",
       "3    $141.00\n",
       "4     $65.00\n",
       "Name: price, dtype: object"
      ]
     },
     "execution_count": 215,
     "metadata": {},
     "output_type": "execute_result"
    }
   ],
   "source": [
    "raw_df.price[:5]"
   ]
  },
  {
   "cell_type": "code",
   "execution_count": null,
   "id": "37a64aab",
   "metadata": {},
   "outputs": [],
   "source": []
  }
 ],
 "metadata": {
  "kernelspec": {
   "display_name": "Python 3 (ipykernel)",
   "language": "python",
   "name": "python3"
  },
  "language_info": {
   "codemirror_mode": {
    "name": "ipython",
    "version": 3
   },
   "file_extension": ".py",
   "mimetype": "text/x-python",
   "name": "python",
   "nbconvert_exporter": "python",
   "pygments_lexer": "ipython3",
   "version": "3.11.0"
  },
  "toc": {
   "base_numbering": 1,
   "nav_menu": {},
   "number_sections": true,
   "sideBar": true,
   "skip_h1_title": false,
   "title_cell": "Table of Contents",
   "title_sidebar": "Contents",
   "toc_cell": false,
   "toc_position": {},
   "toc_section_display": true,
   "toc_window_display": false
  }
 },
 "nbformat": 4,
 "nbformat_minor": 5
}
